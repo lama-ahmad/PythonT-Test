{
 "cells": [
  {
   "cell_type": "code",
   "execution_count": 29,
   "metadata": {},
   "outputs": [],
   "source": [
    "import numpy as np\n",
    "import pandas as pd\n",
    "from scipy import stats\n",
    "\n",
    "df = pd.read_csv('pulley_vs_nonpulley_drops.csv', dtype={ 'surveyid': np.int, 'nonPulley_drop_rate': np.float, 'nonPulley_survey_entrants': np.float, 'Pulley_drop_rate': np.float, 'Pulley_survey_entrants': np.float, 'Difference_drop_rates': np.float})"
   ]
  },
  {
   "cell_type": "code",
   "execution_count": 26,
   "metadata": {},
   "outputs": [
    {
     "data": {
      "text/plain": [
       "Ttest_relResult(statistic=-28.276666916225725, pvalue=7.561575823129426e-171)"
      ]
     },
     "execution_count": 26,
     "metadata": {},
     "output_type": "execute_result"
    }
   ],
   "source": [
    "#T-Test\n",
    "paired_sample = stats.ttest_rel(df['nonPulley_drop_rate'], df['Pulley_drop_rate'])\n",
    "paired_sample"
   ]
  }
 ],
 "metadata": {
  "kernelspec": {
   "display_name": "Python 3",
   "language": "python",
   "name": "python3"
  },
  "language_info": {
   "codemirror_mode": {
    "name": "ipython",
    "version": 3
   },
   "file_extension": ".py",
   "mimetype": "text/x-python",
   "name": "python",
   "nbconvert_exporter": "python",
   "pygments_lexer": "ipython3",
   "version": "3.6.1"
  }
 },
 "nbformat": 4,
 "nbformat_minor": 2
}
