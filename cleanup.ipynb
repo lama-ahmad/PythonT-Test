{
 "cells": [
  {
   "cell_type": "code",
   "execution_count": 1,
   "metadata": {
    "collapsed": true
   },
   "outputs": [],
   "source": [
    "import pandas as pd\n",
    "import numpy as np\n",
    "\n",
    "df = pd.read_csv('pulley_drop_offs.csv', dtype={ 'surveyid': np.int, 'pulley_supplier': np.int, 'drop_rate': np.float, 'survey_entrants': np.int, 'Difference_drop_rates': np.float})"
   ]
  },
  {
   "cell_type": "code",
   "execution_count": 44,
   "metadata": {
    "collapsed": true,
    "scrolled": true
   },
   "outputs": [],
   "source": [
    "#only surveys with more than 20 survey entrants\n",
    "df = df[df.survey_entrants> 19]"
   ]
  },
  {
   "cell_type": "code",
   "execution_count": 46,
   "metadata": {
    "collapsed": true,
    "scrolled": true
   },
   "outputs": [],
   "source": [
    "#return only survey id's that appear more than once\n",
    "vc = df.surveyid.value_counts() > 1\n",
    "vc = vc[vc]\n",
    "\n",
    "df = df.loc[df.surveyid.isin(vc.index)]"
   ]
  },
  {
   "cell_type": "code",
   "execution_count": 47,
   "metadata": {
    "collapsed": true,
    "scrolled": true
   },
   "outputs": [],
   "source": [
    "#separating tables into pulley vs. non-pulley\n",
    "nonPulley = df[df.pulley_supplier == 0]\n",
    "Pulley = df[df.pulley_supplier == 1]"
   ]
  },
  {
   "cell_type": "code",
   "execution_count": 48,
   "metadata": {
    "collapsed": true
   },
   "outputs": [],
   "source": [
    "nonPulley.to_csv('nonPulley_drops.csv')\n",
    "Pulley.to_csv('Pulley_drops.csv')"
   ]
  }
 ],
 "metadata": {
  "kernelspec": {
   "display_name": "Python 3",
   "language": "python",
   "name": "python3"
  },
  "language_info": {
   "codemirror_mode": {
    "name": "ipython",
    "version": 3
   },
   "file_extension": ".py",
   "mimetype": "text/x-python",
   "name": "python",
   "nbconvert_exporter": "python",
   "pygments_lexer": "ipython3",
   "version": "3.6.1"
  }
 },
 "nbformat": 4,
 "nbformat_minor": 2
}
